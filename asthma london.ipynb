{
 "metadata": {
  "name": "",
  "signature": "sha256:4c5bdbd705a06ac8f30cbefa17fbd891217ec5eecb09ff789fd8dc87a2570c43"
 },
 "nbformat": 3,
 "nbformat_minor": 0,
 "worksheets": [
  {
   "cells": [
    {
     "cell_type": "markdown",
     "metadata": {},
     "source": [
      "# Number of Asthma inhalers prescribed per patient in CCGs\n",
      "\n",
      "This notebook explores whether GPs prescribe more inhalers per person in densly populated areas like London.\n",
      "\n",
      "(based on https://gist.github.com/drcjar/81e02f933943f3a297f6)\n",
      "\n",
      "First, some standard imports and settings:"
     ]
    },
    {
     "cell_type": "code",
     "collapsed": false,
     "input": [
      "%matplotlib inline\n",
      "import pandas\n",
      "import re\n",
      "import numpy\n",
      "import tables\n",
      "from IPython import display\n",
      "import folium\n",
      "from matplotlib import pyplot"
     ],
     "language": "python",
     "metadata": {},
     "outputs": [],
     "prompt_number": 1
    },
    {
     "cell_type": "markdown",
     "metadata": {},
     "source": [
      "The CSV file contains perscriptions for February 2014 per GP. The format is weird and contains whitespace in the columns, so we need to strip whitespace out manually:"
     ]
    },
    {
     "cell_type": "code",
     "collapsed": false,
     "input": [
      "df = pandas.read_csv(\n",
      "    'T201402PDPI+BNFT.CSV',\n",
      "    error_bad_lines=False, warn_bad_lines=False)\n",
      "df.columns = [x.strip() for x in df.columns]\n",
      "df['BNF NAME'].fillna('n/a', inplace=True)"
     ],
     "language": "python",
     "metadata": {},
     "outputs": [],
     "prompt_number": 2
    },
    {
     "cell_type": "markdown",
     "metadata": {},
     "source": [
      "Salbutamol is a standard inhaler so we'll filter for that:"
     ]
    },
    {
     "cell_type": "code",
     "collapsed": false,
     "input": [
      "dfs = df[df['BNF NAME'].str.contains('Salbutamol')]"
     ],
     "language": "python",
     "metadata": {},
     "outputs": [],
     "prompt_number": 3
    },
    {
     "cell_type": "markdown",
     "metadata": {},
     "source": [
      "The CSV data contains funny text so we need to force numeric conversion because read_csv couldn't figure it out by itself."
     ]
    },
    {
     "cell_type": "code",
     "collapsed": false,
     "input": [
      "dfs['ITEMS'] = dfs['ITEMS'].convert_objects(convert_numeric=True)"
     ],
     "language": "python",
     "metadata": {},
     "outputs": [],
     "prompt_number": 4
    },
    {
     "cell_type": "markdown",
     "metadata": {},
     "source": [
      "We now have a data frame containing the number of Salbutamol inhalers prescibed per GP. A GP is encoded by e.g. Y000327."
     ]
    },
    {
     "cell_type": "code",
     "collapsed": false,
     "input": [
      "dfs.head()"
     ],
     "language": "python",
     "metadata": {},
     "outputs": [
      {
       "html": [
        "<div style=\"max-height:1000px;max-width:1500px;overflow:auto;\">\n",
        "<table border=\"1\" class=\"dataframe\">\n",
        "  <thead>\n",
        "    <tr style=\"text-align: right;\">\n",
        "      <th></th>\n",
        "      <th>SHA</th>\n",
        "      <th>PCT</th>\n",
        "      <th>PRACTICE</th>\n",
        "      <th>BNF CODE</th>\n",
        "      <th>BNF NAME</th>\n",
        "      <th>ITEMS</th>\n",
        "      <th>NIC</th>\n",
        "      <th>ACT COST</th>\n",
        "      <th>QUANTITY</th>\n",
        "      <th>PERIOD</th>\n",
        "      <th></th>\n",
        "    </tr>\n",
        "  </thead>\n",
        "  <tbody>\n",
        "    <tr>\n",
        "      <th>383 </th>\n",
        "      <td> Q44</td>\n",
        "      <td> RXA</td>\n",
        "      <td> Y00327</td>\n",
        "      <td> 0301011R0AAAPAP</td>\n",
        "      <td> Salbutamol_Inha 100mcg (200 D) CFF      </td>\n",
        "      <td> 37</td>\n",
        "      <td>   57</td>\n",
        "      <td> 53.07</td>\n",
        "      <td> 38</td>\n",
        "      <td> 201402</td>\n",
        "      <td>                   </td>\n",
        "    </tr>\n",
        "    <tr>\n",
        "      <th>821 </th>\n",
        "      <td> Q44</td>\n",
        "      <td> RY7</td>\n",
        "      <td> N85638</td>\n",
        "      <td> 0301011R0AAAPAP</td>\n",
        "      <td> Salbutamol_Inha 100mcg (200 D) CFF      </td>\n",
        "      <td> 32</td>\n",
        "      <td> 49.5</td>\n",
        "      <td> 46.09</td>\n",
        "      <td> 33</td>\n",
        "      <td> 201402</td>\n",
        "      <td>                   </td>\n",
        "    </tr>\n",
        "    <tr>\n",
        "      <th>822 </th>\n",
        "      <td> Q44</td>\n",
        "      <td> RY7</td>\n",
        "      <td> N85638</td>\n",
        "      <td> 0301011R0AAAXAX</td>\n",
        "      <td> Salbutamol_Inh Soln 2.5mg/2.5ml Ud      </td>\n",
        "      <td>  4</td>\n",
        "      <td> 7.64</td>\n",
        "      <td>   7.1</td>\n",
        "      <td> 80</td>\n",
        "      <td> 201402</td>\n",
        "      <td>                   </td>\n",
        "    </tr>\n",
        "    <tr>\n",
        "      <th>1139</th>\n",
        "      <td> Q44</td>\n",
        "      <td> RY7</td>\n",
        "      <td> N85639</td>\n",
        "      <td> 0301011R0AAAPAP</td>\n",
        "      <td> Salbutamol_Inha 100mcg (200 D) CFF      </td>\n",
        "      <td> 10</td>\n",
        "      <td>   15</td>\n",
        "      <td> 13.97</td>\n",
        "      <td> 10</td>\n",
        "      <td> 201402</td>\n",
        "      <td>                   </td>\n",
        "    </tr>\n",
        "    <tr>\n",
        "      <th>1141</th>\n",
        "      <td> Q44</td>\n",
        "      <td> RY7</td>\n",
        "      <td> N85639</td>\n",
        "      <td> 0301011R0BWAABZ</td>\n",
        "      <td> Easyhaler_Salbutamol Sulf 100mcg (200D) </td>\n",
        "      <td>  1</td>\n",
        "      <td> 3.31</td>\n",
        "      <td>  3.06</td>\n",
        "      <td>  1</td>\n",
        "      <td> 201402</td>\n",
        "      <td>                   </td>\n",
        "    </tr>\n",
        "  </tbody>\n",
        "</table>\n",
        "</div>"
       ],
       "metadata": {},
       "output_type": "pyout",
       "prompt_number": 5,
       "text": [
        "      SHA  PCT PRACTICE         BNF CODE  \\\n",
        "383   Q44  RXA   Y00327  0301011R0AAAPAP   \n",
        "821   Q44  RY7   N85638  0301011R0AAAPAP   \n",
        "822   Q44  RY7   N85638  0301011R0AAAXAX   \n",
        "1139  Q44  RY7   N85639  0301011R0AAAPAP   \n",
        "1141  Q44  RY7   N85639  0301011R0BWAABZ   \n",
        "\n",
        "                                      BNF NAME  ITEMS   NIC ACT COST QUANTITY  \\\n",
        "383   Salbutamol_Inha 100mcg (200 D) CFF           37    57    53.07       38   \n",
        "821   Salbutamol_Inha 100mcg (200 D) CFF           32  49.5    46.09       33   \n",
        "822   Salbutamol_Inh Soln 2.5mg/2.5ml Ud            4  7.64      7.1       80   \n",
        "1139  Salbutamol_Inha 100mcg (200 D) CFF           10    15    13.97       10   \n",
        "1141  Easyhaler_Salbutamol Sulf 100mcg (200D)       1  3.31     3.06        1   \n",
        "\n",
        "      PERIOD                      \n",
        "383   201402                      \n",
        "821   201402                      \n",
        "822   201402                      \n",
        "1139  201402                      \n",
        "1141  201402                      "
       ]
      }
     ],
     "prompt_number": 5
    },
    {
     "cell_type": "markdown",
     "metadata": {},
     "source": [
      "## Practice to CCG mapping\n",
      "\n",
      "We want to map GPs to CCGs which are the new adimistrative units for the NHS for later graphing.\n",
      "\n",
      "There is a dataset a http://www.erpho.org.uk/viewResource.aspx?id=22125 in excel format. I extracted a single sheet into CSV from there which contains the practice code -> CCG mapping.\n",
      "\n",
      "I then merge the two dataframes over PRACTICE (that's why I have to rename a column).\n",
      "\n",
      "## Mapping interim CCG to correct tags in geojson\n",
      "\n",
      "The geojson contains a different code which Carl figured out is just a linear mapping of the intermin CCG code to a value like \"E38000001\", \"E38000002\", etc."
     ]
    },
    {
     "cell_type": "code",
     "collapsed": false,
     "input": [
      "practice_ccg_df = pandas.read_csv('list-of-proposed-practices-ccg.csv')\n",
      "practice_ccg_df = practice_ccg_df.rename(columns={'Practice code': 'PRACTICE'})\n",
      "\n",
      "interim_codes = set(practice_ccg_df['Interim CCG code']) - set([pandas.np.nan])\n",
      "ccg13cd_map = pandas.DataFrame.from_records(zip(\n",
      "    sorted(interim_codes),\n",
      "    ['E{}'.format(x + 38000001) for x in range(len(interim_codes))]),\n",
      "    columns=['Interim CCG code', 'CCG13CD']) \n",
      "    \n",
      "by_ccg = practice_ccg_df.merge(dfs, on='PRACTICE')\n",
      "\n",
      "by_ccg13cd = by_ccg.merge(ccg13cd_map, on=['Interim CCG code'])"
     ],
     "language": "python",
     "metadata": {},
     "outputs": [],
     "prompt_number": 6
    },
    {
     "cell_type": "markdown",
     "metadata": {},
     "source": [
      "## Normalising\n",
      "\n",
      "We have the number of patients per practice in the same CCG sheet. Carl noted that these numbers may be inaccurate because GPs with fewer than 100 patients are not counted (needs investigating). The patient numbers come as strings with a comma so we need to convert them manually.  "
     ]
    },
    {
     "cell_type": "code",
     "collapsed": false,
     "input": [
      "by_ccg13cd['list size'] = by_ccg13cd['List size (April 2011)'].str.replace(',', '').convert_objects(convert_numeric=True)"
     ],
     "language": "python",
     "metadata": {},
     "outputs": [],
     "prompt_number": 7
    },
    {
     "cell_type": "markdown",
     "metadata": {},
     "source": [
      "We now group and sum over the individual CCG13CDs (geojson codes)."
     ]
    },
    {
     "cell_type": "code",
     "collapsed": false,
     "input": [
      "summed_by_ccg = by_ccg13cd.groupby('CCG13CD').sum().reset_index()\n",
      "summed_by_ccg.head()"
     ],
     "language": "python",
     "metadata": {},
     "outputs": [
      {
       "html": [
        "<div style=\"max-height:1000px;max-width:1500px;overflow:auto;\">\n",
        "<table border=\"1\" class=\"dataframe\">\n",
        "  <thead>\n",
        "    <tr style=\"text-align: right;\">\n",
        "      <th></th>\n",
        "      <th>CCG13CD</th>\n",
        "      <th>ITEMS</th>\n",
        "      <th>list size</th>\n",
        "    </tr>\n",
        "  </thead>\n",
        "  <tbody>\n",
        "    <tr>\n",
        "      <th>0</th>\n",
        "      <td> E38000001</td>\n",
        "      <td>  761</td>\n",
        "      <td>  595322</td>\n",
        "    </tr>\n",
        "    <tr>\n",
        "      <th>1</th>\n",
        "      <td> E38000002</td>\n",
        "      <td> 9254</td>\n",
        "      <td> 1788861</td>\n",
        "    </tr>\n",
        "    <tr>\n",
        "      <th>2</th>\n",
        "      <td> E38000003</td>\n",
        "      <td> 6949</td>\n",
        "      <td>  878123</td>\n",
        "    </tr>\n",
        "    <tr>\n",
        "      <th>3</th>\n",
        "      <td> E38000004</td>\n",
        "      <td> 2068</td>\n",
        "      <td>  713198</td>\n",
        "    </tr>\n",
        "    <tr>\n",
        "      <th>4</th>\n",
        "      <td> E38000005</td>\n",
        "      <td> 4122</td>\n",
        "      <td>  615848</td>\n",
        "    </tr>\n",
        "  </tbody>\n",
        "</table>\n",
        "</div>"
       ],
       "metadata": {},
       "output_type": "pyout",
       "prompt_number": 8,
       "text": [
        "     CCG13CD  ITEMS  list size\n",
        "0  E38000001    761     595322\n",
        "1  E38000002   9254    1788861\n",
        "2  E38000003   6949     878123\n",
        "3  E38000004   2068     713198\n",
        "4  E38000005   4122     615848"
       ]
      }
     ],
     "prompt_number": 8
    },
    {
     "cell_type": "markdown",
     "metadata": {},
     "source": [
      "We can now normalize to ITEMS per patients. Note that we do it per million because the folium scale breaks for really small numbers."
     ]
    },
    {
     "cell_type": "code",
     "collapsed": false,
     "input": [
      "summed_by_ccg['per_patient'] = 1e6 * summed_by_ccg['ITEMS'] / summed_by_ccg['list size']"
     ],
     "language": "python",
     "metadata": {},
     "outputs": [],
     "prompt_number": 13
    },
    {
     "cell_type": "markdown",
     "metadata": {},
     "source": [
      "Finally we plot the data on a map centered on UK."
     ]
    },
    {
     "cell_type": "code",
     "collapsed": false,
     "input": [
      "map = folium.Map(location=[54.2, -2.45], zoom_start=6)\n",
      "map.geo_json(geo_path='ccg_data/ccgs.json',\n",
      "     data_out='salbutamol_per_million.json', data=summed_by_ccg,\n",
      "     columns=['CCG13CD', 'per_patient'],\n",
      "     key_on='feature.properties.CCG13CD',\n",
      "     fill_color='YlOrRd', fill_opacity=0.5, line_opacity=0.7,\n",
      "     legend_name='Number of Salbutamol inhalers per million patients per CCG.')\n",
      "map.create_map(path='salbutamol_per_million.html')"
     ],
     "language": "python",
     "metadata": {},
     "outputs": [],
     "prompt_number": 21
    },
    {
     "cell_type": "code",
     "collapsed": false,
     "input": [
      "display.IFrame('salbutamol_per_million.html', '100%', 400)"
     ],
     "language": "python",
     "metadata": {},
     "outputs": [
      {
       "html": [
        "\n",
        "        <iframe\n",
        "            width=\"100%\"\n",
        "            height=400\"\n",
        "            src=\"salbutamol_per_million.html\"\n",
        "            frameborder=\"0\"\n",
        "            allowfullscreen\n",
        "        ></iframe>\n",
        "        "
       ],
       "metadata": {},
       "output_type": "pyout",
       "prompt_number": 22,
       "text": [
        "<IPython.lib.display.IFrame at 0x7ff599df1310>"
       ]
      }
     ],
     "prompt_number": 22
    },
    {
     "cell_type": "markdown",
     "metadata": {},
     "source": [
      "## Conclusion?\n",
      "\n",
      "Carl noted that epidemiology is a complex area. Looking at Asthma inhalers only doesn't account for e.g. age distribution, socio-economic factors, different management styles in the CCGs etc.\n",
      "\n",
      "This notebook shows mainly how to work with the prescription data. Drawing conclusions on so little data without control is dangerous. I'm therefore ending without a conclusion."
     ]
    }
   ],
   "metadata": {}
  }
 ]
}