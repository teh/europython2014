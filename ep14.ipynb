{
 "metadata": {
  "name": "",
  "signature": "sha256:835d537dd09f5d7503c68e4265a83f3a56b5ff7bcfa70137f6ebae63d3ef0e27"
 },
 "nbformat": 3,
 "nbformat_minor": 0,
 "worksheets": [
  {
   "cells": [
    {
     "cell_type": "heading",
     "level": 1,
     "metadata": {},
     "source": [
      "Europython 2014"
     ]
    },
    {
     "cell_type": "markdown",
     "metadata": {},
     "source": [
      "if you want to help:\n",
      "\n",
      "* http://europython-society.org\n",
      "\n",
      "dinner club on Wed. night. Tickets still available.\n",
      "\n",
      "pydata 2014 in Berlin\n",
      "\n",
      "duckling (help w.. video streaming).\n",
      "\n"
     ]
    },
    {
     "cell_type": "markdown",
     "metadata": {},
     "source": [
      "# Keynote\n",
      "\n",
      "Constanze Kurz. Lawyer fighting successfully for all kinds of civil rights. \n",
      "\n",
      "## One year of Snowden\n",
      "\n",
      "* learned about what intelligence services are up to last year.\n",
      "* store billions of meta data transactions daily\n",
      "* can we defend ourselves against this massive man power and money?\n",
      "* democratic oversight failed, how to fix it?\n",
      "* surveilance is an industry (i.e. money to be made)\n",
      "* companies have no ethics. don't care about how tech is used. \n",
      "  * possible solution: export restrictions (like arms)\n",
      "* start of snowden year: PRISM\n",
      "* PRISM is about social networks, so it affects everyone.\n",
      "* FISA is the law forcing companies into submission\n",
      "* Targets are non-US citizen => discussion in congress is about US citizens.\n",
      "* Result: stop spying on non-US ctzns not even up for discussion.\n",
      "* FISA is toothless and undemocratic, almost illegal: secret court that has never refused a NSA request.\n",
      "* Greek scandal a few years ago showed danger of collecting metadata.\n",
      "* It's invisible but would be super creepy if someone did that physically IRL.\n",
      "* metadata in EU protected by \"right to privacy\"\n",
      "* Largest scandal probably tempora.\n",
      "* [display image of under-sea cables]\n",
      "* GCHQ and NSA listening in to all traffic\n",
      "* GCHQ advertises \"mastering the Internet\" which might just be true.\n",
      "* ~20PB for 3 days.\n",
      "* Contains _everything_ about our lives.\n",
      "* Involves carrieers (e.g. BT) and backbones (e.g. level 3). Unclear whether willing or not. \n",
      "* Tone of discussion in Germany only changed when Angela Merkels phone was tapped.\n",
      "* New revelations coming in.\n",
      "  * E.g. NSA hacking pacific fibers.\n",
      "  * Also first connection to deaths: metadata was used to direct drones. Story in WaPo.\n",
      "  * NSA also collects GeoLocation,\n",
      "* You can read all this in newspapers but there are so many that it's easy to forget the smaller stuff.\n",
      "* Looking at priorities it seems that a lot of spying is for economical and power interests, not population safety as advertised.\n",
      "* Budget revelations interesting because large chunks of budget unaccounted (50 billion a year).\n",
      "* German parliamentary \"untersuchungsausschuss\" (parliamentary inquiry) member said he supects that even more money is spent but hidden in military budgets.\n",
      "* Large budgets encourage a grey/black market. I.e. NSA helps perpetuate organised crime.\n",
      "\n",
      "Change in presentation: successes (what changed)\n",
      "\n",
      "* \"metadata only a modest contribution to the nation's security\"\n",
      "* TOR a target.\n",
      "  * Filed a complaint against everyone who could be involved even if tangentally\n",
      "  * Generalbundesanwalt now asking questions (unclear whether this tactic will work).\n",
      "* GCHQ noted that current practices are incompatible with ECHR.\n",
      "  * Open rights group (ORG) filed an Article 24 complaint.\n",
      "  * Unclear where it will go.\n",
      "* Despite legal successes the tech community should improve tech solutions\n",
      "  * help mom and pop\n",
      "  * build and use crypto\n",
      "* We should cut budgets\n",
      "* Change perception that mass surveillance is neither necessary nor useful\n",
      "* \"Let's fight it!\""
     ]
    }
   ],
   "metadata": {}
  }
 ]
}