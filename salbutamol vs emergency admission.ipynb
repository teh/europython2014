{
 "metadata": {
  "name": "",
  "signature": "sha256:4bee88dedc41fe9a67ef613357fc6a1bc9f79d09d5446462717f9f978ae01e1d"
 },
 "nbformat": 3,
 "nbformat_minor": 0,
 "worksheets": [
  {
   "cells": [
    {
     "cell_type": "markdown",
     "metadata": {},
     "source": [
      "# Number of Asthma inhalers prescribed per patient in CCGs\n",
      "\n",
      "This notebook explores whether Salbutamol prescription correlates in any way to emergency admissions. \n",
      "\n",
      "(based on https://gist.github.com/drcjar/81e02f933943f3a297f6)\n",
      "\n",
      "First, some standard imports and settings:"
     ]
    },
    {
     "cell_type": "code",
     "collapsed": false,
     "input": [
      "%matplotlib inline\n",
      "import pandas\n",
      "import re\n",
      "import numpy\n",
      "import tables\n",
      "from IPython import display\n",
      "import folium\n",
      "from matplotlib import pyplot"
     ],
     "language": "python",
     "metadata": {},
     "outputs": [],
     "prompt_number": 1
    },
    {
     "cell_type": "markdown",
     "metadata": {},
     "source": [
      "The CSV file contains perscriptions for February 2014 per GP. The format is weird and contains whitespace in the columns, so we need to strip whitespace out manually:"
     ]
    },
    {
     "cell_type": "code",
     "collapsed": false,
     "input": [
      "df = pandas.read_csv(\n",
      "    'T201402PDPI+BNFT.CSV',\n",
      "    error_bad_lines=False, warn_bad_lines=False)\n",
      "df.columns = [x.strip() for x in df.columns]\n",
      "df['BNF NAME'].fillna('n/a', inplace=True)"
     ],
     "language": "python",
     "metadata": {},
     "outputs": [],
     "prompt_number": 2
    },
    {
     "cell_type": "markdown",
     "metadata": {},
     "source": [
      "Salbutamol is a standard inhaler so we'll filter for that:"
     ]
    },
    {
     "cell_type": "code",
     "collapsed": false,
     "input": [
      "dfs = df[df['BNF NAME'].str.contains('Salbutamol')]"
     ],
     "language": "python",
     "metadata": {},
     "outputs": [],
     "prompt_number": 37
    },
    {
     "cell_type": "markdown",
     "metadata": {},
     "source": [
      "The CSV data contains funny text so we need to force numeric conversion because read_csv couldn't figure it out by itself."
     ]
    },
    {
     "cell_type": "code",
     "collapsed": false,
     "input": [
      "dfs['ITEMS'] = dfs['ITEMS'].convert_objects(convert_numeric=True)"
     ],
     "language": "python",
     "metadata": {},
     "outputs": [],
     "prompt_number": 38
    },
    {
     "cell_type": "markdown",
     "metadata": {},
     "source": [
      "We now have a data frame containing the number of Salbutamol inhalers prescibed per GP. A GP is encoded by e.g. Y000327."
     ]
    },
    {
     "cell_type": "code",
     "collapsed": false,
     "input": [
      "dfs.head()"
     ],
     "language": "python",
     "metadata": {},
     "outputs": [
      {
       "html": [
        "<div style=\"max-height:1000px;max-width:1500px;overflow:auto;\">\n",
        "<table border=\"1\" class=\"dataframe\">\n",
        "  <thead>\n",
        "    <tr style=\"text-align: right;\">\n",
        "      <th></th>\n",
        "      <th>SHA</th>\n",
        "      <th>PCT</th>\n",
        "      <th>PRACTICE</th>\n",
        "      <th>BNF CODE</th>\n",
        "      <th>BNF NAME</th>\n",
        "      <th>ITEMS</th>\n",
        "      <th>NIC</th>\n",
        "      <th>ACT COST</th>\n",
        "      <th>QUANTITY</th>\n",
        "      <th>PERIOD</th>\n",
        "      <th></th>\n",
        "    </tr>\n",
        "  </thead>\n",
        "  <tbody>\n",
        "    <tr>\n",
        "      <th>391 </th>\n",
        "      <td> Q44</td>\n",
        "      <td> RXA</td>\n",
        "      <td> Y00327</td>\n",
        "      <td> 0302000N0BCAEBF</td>\n",
        "      <td> Seretide 125_Evohaler 125mcg/25mcg(120D)</td>\n",
        "      <td> 1</td>\n",
        "      <td>     35</td>\n",
        "      <td>  32.32</td>\n",
        "      <td> 1</td>\n",
        "      <td> 201402</td>\n",
        "      <td>                   </td>\n",
        "    </tr>\n",
        "    <tr>\n",
        "      <th>392 </th>\n",
        "      <td> Q44</td>\n",
        "      <td> RXA</td>\n",
        "      <td> Y00327</td>\n",
        "      <td> 0302000N0BCAFBG</td>\n",
        "      <td> Seretide 250_Evohaler 250mcg/25mcg(120D)</td>\n",
        "      <td> 2</td>\n",
        "      <td> 118.96</td>\n",
        "      <td> 109.85</td>\n",
        "      <td> 2</td>\n",
        "      <td> 201402</td>\n",
        "      <td>                   </td>\n",
        "    </tr>\n",
        "    <tr>\n",
        "      <th>831 </th>\n",
        "      <td> Q44</td>\n",
        "      <td> RY7</td>\n",
        "      <td> N85638</td>\n",
        "      <td> 0302000N0BCADBE</td>\n",
        "      <td> Seretide 50_Evohaler 50mcg/25mcg (120 D)</td>\n",
        "      <td> 1</td>\n",
        "      <td>     18</td>\n",
        "      <td>  16.63</td>\n",
        "      <td> 1</td>\n",
        "      <td> 201402</td>\n",
        "      <td>                   </td>\n",
        "    </tr>\n",
        "    <tr>\n",
        "      <th>1142</th>\n",
        "      <td> Q44</td>\n",
        "      <td> RY7</td>\n",
        "      <td> N85639</td>\n",
        "      <td> 0302000N0BCAFBG</td>\n",
        "      <td> Seretide 250_Evohaler 250mcg/25mcg(120D)</td>\n",
        "      <td> 1</td>\n",
        "      <td>  59.48</td>\n",
        "      <td>  54.92</td>\n",
        "      <td> 1</td>\n",
        "      <td> 201402</td>\n",
        "      <td>                   </td>\n",
        "    </tr>\n",
        "    <tr>\n",
        "      <th>1696</th>\n",
        "      <td> Q44</td>\n",
        "      <td> RY7</td>\n",
        "      <td> Y03836</td>\n",
        "      <td> 0302000N0BCAFBG</td>\n",
        "      <td> Seretide 250_Evohaler 250mcg/25mcg(120D)</td>\n",
        "      <td> 2</td>\n",
        "      <td> 178.44</td>\n",
        "      <td> 164.75</td>\n",
        "      <td> 3</td>\n",
        "      <td> 201402</td>\n",
        "      <td>                   </td>\n",
        "    </tr>\n",
        "  </tbody>\n",
        "</table>\n",
        "</div>"
       ],
       "metadata": {},
       "output_type": "pyout",
       "prompt_number": 39,
       "text": [
        "      SHA  PCT PRACTICE         BNF CODE  \\\n",
        "391   Q44  RXA   Y00327  0302000N0BCAEBF   \n",
        "392   Q44  RXA   Y00327  0302000N0BCAFBG   \n",
        "831   Q44  RY7   N85638  0302000N0BCADBE   \n",
        "1142  Q44  RY7   N85639  0302000N0BCAFBG   \n",
        "1696  Q44  RY7   Y03836  0302000N0BCAFBG   \n",
        "\n",
        "                                      BNF NAME  ITEMS     NIC ACT COST  \\\n",
        "391   Seretide 125_Evohaler 125mcg/25mcg(120D)      1      35    32.32   \n",
        "392   Seretide 250_Evohaler 250mcg/25mcg(120D)      2  118.96   109.85   \n",
        "831   Seretide 50_Evohaler 50mcg/25mcg (120 D)      1      18    16.63   \n",
        "1142  Seretide 250_Evohaler 250mcg/25mcg(120D)      1   59.48    54.92   \n",
        "1696  Seretide 250_Evohaler 250mcg/25mcg(120D)      2  178.44   164.75   \n",
        "\n",
        "     QUANTITY  PERIOD                      \n",
        "391         1  201402                      \n",
        "392         2  201402                      \n",
        "831         1  201402                      \n",
        "1142        1  201402                      \n",
        "1696        3  201402                      "
       ]
      }
     ],
     "prompt_number": 39
    },
    {
     "cell_type": "markdown",
     "metadata": {},
     "source": [
      "## Practice to CCG mapping\n",
      "\n",
      "We want to map GPs to CCGs which are the new adimistrative units for the NHS for later graphing.\n",
      "\n",
      "There is a dataset a http://www.erpho.org.uk/viewResource.aspx?id=22125 in excel format. I extracted a single sheet into CSV from there which contains the practice code -> CCG mapping.\n",
      "\n",
      "I then merge the two dataframes over PRACTICE (that's why I have to rename a column).\n",
      "\n",
      "## Mapping interim CCG to correct tags in geojson\n",
      "\n",
      "The geojson contains a different code which Carl figured out is just a linear mapping of the intermin CCG code to a value like \"E38000001\", \"E38000002\", etc."
     ]
    },
    {
     "cell_type": "code",
     "collapsed": false,
     "input": [
      "practice_ccg_df = pandas.read_csv('list-of-proposed-practices-ccg.csv')\n",
      "practice_ccg_df = practice_ccg_df.rename(columns={'Practice code': 'PRACTICE'})\n",
      "\n",
      "interim_codes = set(practice_ccg_df['Interim CCG code']) - set([pandas.np.nan])\n",
      "ccg13cd_map = pandas.DataFrame.from_records(zip(\n",
      "    sorted(interim_codes),\n",
      "    ['E{}'.format(x + 38000001) for x in range(len(interim_codes))]),\n",
      "    columns=['Interim CCG code', 'CCG13CD']) \n",
      "    \n",
      "by_ccg = practice_ccg_df.merge(dfs, on='PRACTICE')\n",
      "\n",
      "by_ccg13cd = by_ccg.merge(ccg13cd_map, on=['Interim CCG code'])\n",
      "\n",
      "# Drop columns we don't care about\n",
      "by_ccg13cd = by_ccg13cd.ix[:, ('CCG13CD', 'ITEMS', 'QUANTITY')]"
     ],
     "language": "python",
     "metadata": {},
     "outputs": [],
     "prompt_number": 40
    },
    {
     "cell_type": "markdown",
     "metadata": {},
     "source": [
      "## Normalising\n",
      "\n",
      "We have the number of patients per practice in the same CCG sheet. The most accurate source of CCG patient numbers seems to be the ONS: http://www.ons.gov.uk/ons/rel/sape/clinical-commissioning-group-population-estimates/mid-2011--census-based-/stb---clinical-commissioning-groups---mid-2011.html\n",
      "\n",
      "The zip file contains a formatted and an unformatted excel file from which we filter the individual CCGs which can be matched by beginning with \"E3800\"."
     ]
    },
    {
     "cell_type": "code",
     "collapsed": false,
     "input": [
      "ons_ccg_df = pandas.read_excel('Mid-2011-ccg-syoa-unformatted-file.xls', 'Mid-2011 Persons')\n",
      "ons_ccg_df = ons_ccg_df.ix[ons_ccg_df['Area Codes '].str.startswith('E3800'), ('Area Codes ', 'Area Names',  'All Ages')]\n",
      "\n",
      "# We want to merge on the CCG code so we need to rename.\n",
      "ons_ccg_df = ons_ccg_df.rename(columns={'Area Codes ': 'CCG13CD'})"
     ],
     "language": "python",
     "metadata": {},
     "outputs": [],
     "prompt_number": 41
    },
    {
     "cell_type": "markdown",
     "metadata": {},
     "source": [
      "We can now sum the number of patients and prescribed items by CCG. "
     ]
    },
    {
     "cell_type": "code",
     "collapsed": false,
     "input": [
      "summed_by_ccg = by_ccg13cd.groupby('CCG13CD').sum().reset_index()\n",
      "summed_by_ccg.head()"
     ],
     "language": "python",
     "metadata": {},
     "outputs": [
      {
       "html": [
        "<div style=\"max-height:1000px;max-width:1500px;overflow:auto;\">\n",
        "<table border=\"1\" class=\"dataframe\">\n",
        "  <thead>\n",
        "    <tr style=\"text-align: right;\">\n",
        "      <th></th>\n",
        "      <th>CCG13CD</th>\n",
        "      <th>ITEMS</th>\n",
        "    </tr>\n",
        "  </thead>\n",
        "  <tbody>\n",
        "    <tr>\n",
        "      <th>0</th>\n",
        "      <td> E38000001</td>\n",
        "      <td>  458</td>\n",
        "    </tr>\n",
        "    <tr>\n",
        "      <th>1</th>\n",
        "      <td> E38000002</td>\n",
        "      <td> 1791</td>\n",
        "    </tr>\n",
        "    <tr>\n",
        "      <th>2</th>\n",
        "      <td> E38000003</td>\n",
        "      <td>  473</td>\n",
        "    </tr>\n",
        "    <tr>\n",
        "      <th>3</th>\n",
        "      <td> E38000004</td>\n",
        "      <td>  152</td>\n",
        "    </tr>\n",
        "    <tr>\n",
        "      <th>4</th>\n",
        "      <td> E38000005</td>\n",
        "      <td>  569</td>\n",
        "    </tr>\n",
        "  </tbody>\n",
        "</table>\n",
        "</div>"
       ],
       "metadata": {},
       "output_type": "pyout",
       "prompt_number": 42,
       "text": [
        "     CCG13CD  ITEMS\n",
        "0  E38000001    458\n",
        "1  E38000002   1791\n",
        "2  E38000003    473\n",
        "3  E38000004    152\n",
        "4  E38000005    569"
       ]
      }
     ],
     "prompt_number": 42
    },
    {
     "cell_type": "markdown",
     "metadata": {},
     "source": [
      "Now we have the number of items per CCG. Next we merge in the population numbers which we need to normalize to prescriptions per patients."
     ]
    },
    {
     "cell_type": "code",
     "collapsed": false,
     "input": [
      "summed_by_ccg = summed_by_ccg.merge(ons_ccg_df, on=['CCG13CD'])"
     ],
     "language": "python",
     "metadata": {},
     "outputs": [],
     "prompt_number": 43
    },
    {
     "cell_type": "markdown",
     "metadata": {},
     "source": [
      "Load data from inhale (interactive health atlas for lung conditions in England). The CSV is \"Asthma\" from the following source: http://customer.instantatlas.com/INHALE/dataviews/list."
     ]
    },
    {
     "cell_type": "code",
     "collapsed": false,
     "input": [
      "aea_column = 'Asthma emergency admissions per 1,000 population(2011)'\n",
      "aea_df = pandas.read_csv('dataView12_17.csv', error_bad_lines=False)\n",
      "# rename broken CCG column header.\n",
      "aea_df = aea_df.rename(columns={aea_df.columns[0]: 'Interim CCG code'})\n",
      "\n",
      "# drop all columns we don't care about\n",
      "aea_df = aea_df.ix[:, ('Interim CCG code', aea_column)]\n",
      "\n",
      "# Replace interim CCG codes with real ones.\n",
      "# TODO: there seem to be only 210 (not 211) CCGs. Could be related to CSV parsing errors.\n",
      "aea_df = aea_df.merge(ccg13cd_map)"
     ],
     "language": "python",
     "metadata": {},
     "outputs": [
      {
       "output_type": "stream",
       "stream": "stderr",
       "text": [
        "Skipping line 214: expected 385 fields, saw 767\n",
        "Skipping line 218: expected 385 fields, saw 767\n",
        "Skipping line 219: expected 385 fields, saw 767\n",
        "Skipping line 220: expected 385 fields, saw 767\n",
        "Skipping line 226: expected 385 fields, saw 767\n",
        "Skipping line 227: expected 385 fields, saw 767\n",
        "Skipping line 228: expected 385 fields, saw 767\n",
        "Skipping line 229: expected 385 fields, saw 767\n",
        "\n"
       ]
      }
     ],
     "prompt_number": 44
    },
    {
     "cell_type": "code",
     "collapsed": false,
     "input": [
      "scatter_df = aea_df.merge(summed_by_ccg)\n",
      "\n",
      "scatter_df['normalized_prescriptions'] = 1.0 * scatter_df['ITEMS'] / scatter_df['All Ages'] \n",
      "pyplot.scatter(\n",
      "    scatter_df['normalized_prescriptions'],\n",
      "    scatter_df['Asthma emergency admissions per 1,000 population(2011)'],\n",
      ")\n",
      "pyplot.xlabel('Salbutamol prescriptions per person')\n",
      "pyplot.ylabel('Asthma emergency admissions per 1,000 population(2011)')"
     ],
     "language": "python",
     "metadata": {},
     "outputs": [
      {
       "metadata": {},
       "output_type": "pyout",
       "prompt_number": 45,
       "text": [
        "<matplotlib.text.Text at 0x7fba7614d910>"
       ]
      },
      {
       "metadata": {},
       "output_type": "display_data",
       "png": "[encoded data removed]",
       "text": [
        "<matplotlib.figure.Figure at 0x7fba76311a90>"
       ]
      }
     ],
     "prompt_number": 45
    },
    {
     "cell_type": "code",
     "collapsed": false,
     "input": [],
     "language": "python",
     "metadata": {},
     "outputs": []
    }
   ],
   "metadata": {}
  }
 ]
}